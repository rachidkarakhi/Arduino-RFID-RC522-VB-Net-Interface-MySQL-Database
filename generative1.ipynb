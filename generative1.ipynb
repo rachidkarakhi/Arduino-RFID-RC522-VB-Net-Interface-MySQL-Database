{
  "nbformat": 4,
  "nbformat_minor": 0,
  "metadata": {
    "colab": {
      "provenance": [],
      "mount_file_id": "1FwHmt5BdmYz2PxecUYfXTnSHtCVXBzrc",
      "authorship_tag": "ABX9TyMSIgsSryF3W+7yScxsvCvt",
      "include_colab_link": true
    },
    "kernelspec": {
      "name": "python3",
      "display_name": "Python 3"
    },
    "language_info": {
      "name": "python"
    }
  },
  "cells": [
    {
      "cell_type": "markdown",
      "metadata": {
        "id": "view-in-github",
        "colab_type": "text"
      },
      "source": [
        "<a href=\"https://colab.research.google.com/github/rachidkarakhi/Arduino-RFID-RC522-VB-Net-Interface-MySQL-Database/blob/main/generative1.ipynb\" target=\"_parent\"><img src=\"https://colab.research.google.com/assets/colab-badge.svg\" alt=\"Open In Colab\"/></a>"
      ]
    },
    {
      "cell_type": "code",
      "execution_count": 1,
      "metadata": {
        "id": "RcgdLj1Ah42n"
      },
      "outputs": [],
      "source": []
    },
    {
      "cell_type": "markdown",
      "source": [
        "import the libraries"
      ],
      "metadata": {
        "id": "TI7DCFWGn2tT"
      }
    },
    {
      "cell_type": "code",
      "source": [
        "import numpy as np\n",
        "import pandas as pd\n",
        "import tensorflow as tf\n",
        "from tensorflow.keras.preprocessing.text import Tokenizer\n",
        "from tensorflow.keras.preprocessing.sequence import pad_sequences\n",
        "from tensorflow.keras.models import Model\n",
        "from tensorflow.keras.layers import Input, LSTM, Embedding, Dense, Attention\n"
      ],
      "metadata": {
        "id": "RdF4BehJn5YF"
      },
      "execution_count": 2,
      "outputs": []
    },
    {
      "cell_type": "markdown",
      "source": [
        "import the data"
      ],
      "metadata": {
        "id": "KtOU3PEmobca"
      }
    },
    {
      "cell_type": "code",
      "source": [
        "import xml.etree.ElementTree as ET\n",
        "import pandas as pd\n",
        "\n",
        "def get_data_from_xml_child(child):\n",
        "    Row = {}\n",
        "    Row[\"StudentID\"] = child.find(\"MetaInfo\").get('StudentID')\n",
        "    Row[\"TaskID\"] = child.find(\"MetaInfo\").get('TaskID')\n",
        "    Row[\"DataSource\"] = child.find(\"MetaInfo\").get('DataSource')\n",
        "    Row[\"ProblemDescription\"] = child.find(\"ProblemDescription\").text\n",
        "    Row[\"Question\"] = child.find(\"Question\").text\n",
        "    Row[\"Answer\"] = child.find(\"Answer\").text\n",
        "    Row[\"Annotation_label\"] = child.find(\"Annotation\").get(\"Label\")\n",
        "    Row[\"Annotation_ContextRequired\"] = child.find(\"Annotation\").find(\"AdditionalAnnotation\").get('ContextRequired')\n",
        "    Row[\"Annotation_ExtraInfoInAnswer\"] = child.find(\"Annotation\").find(\"AdditionalAnnotation\").get('ExtraInfoInAnswer')\n",
        "    Row[\"Annotation_comments\"] = child.find(\"Annotation\").find(\"Comments\").text\n",
        "    Row[\"Annotation_comments_watch\"] = child.find(\"Annotation\").find(\"Comments\").get(\"Watch\")\n",
        "    Row[\"ReferenceAnswers\"] = child.find(\"ReferenceAnswers\").text\n",
        "    return Row\n",
        "\n",
        "# xml_data = open('/kaggle/input/asag-dt-grad-xml/grade_data.xml', 'r').read()  # Read file\n",
        "# Read the file from your Google Drive\n",
        "with open('/content/drive/MyDrive/Colab Notebooks/grade_data.xml', 'r') as f:\n",
        "    xml_data = f.read()\n",
        "root = ET.XML(xml_data)  # Parse XML\n",
        "\n",
        "data = []\n",
        "cols = []\n",
        "for i, child in enumerate(root):\n",
        "    data.append(get_data_from_xml_child(child))\n"
      ],
      "metadata": {
        "id": "9hltd07coXMK"
      },
      "execution_count": 3,
      "outputs": []
    },
    {
      "cell_type": "markdown",
      "source": [
        "# New Section"
      ],
      "metadata": {
        "id": "kkt7vtFZxeDk"
      }
    },
    {
      "cell_type": "code",
      "source": [
        "df = pd.DataFrame(data)\n",
        "df.head()"
      ],
      "metadata": {
        "colab": {
          "base_uri": "https://localhost:8080/",
          "height": 721
        },
        "id": "owKZ25_2qS97",
        "outputId": "52e38bf2-2ffc-4128-df56-16d002a01f71"
      },
      "execution_count": 4,
      "outputs": [
        {
          "output_type": "execute_result",
          "data": {
            "text/plain": [
              "  StudentID            TaskID           DataSource  \\\n",
              "0   DTSU040  LP03_PR09.bLK.sh  DeepTutorSummer2014   \n",
              "1   DTSU035   FM_LV04_PR05.sh  DeepTutorSummer2014   \n",
              "2   DTSU021      FM_LVxx_PR01  DeepTutorSummer2014   \n",
              "3   DTSU033  LP03_PR09.bLK.sh  DeepTutorSummer2014   \n",
              "4   DTSU015      FM_LV04_PR05  DeepTutorSummer2014   \n",
              "\n",
              "                                  ProblemDescription  \\\n",
              "0  A car windshield collides with a mosquito, squ...   \n",
              "1  Two hockey players pass a puck between them on...   \n",
              "2  A rocket pushes a meteor with constant force. ...   \n",
              "3  A car windshield collides with a mosquito, squ...   \n",
              "4  Two hockey players pass a puck between them on...   \n",
              "\n",
              "                                            Question  \\\n",
              "0  How does Newton's third law apply to this situ...   \n",
              "1  What forces are acting on the puck while the p...   \n",
              "2            Can you articulate Newton's second law?   \n",
              "3  Can you articulate a principle or definition w...   \n",
              "4  Based on Newton's first law, what can you say ...   \n",
              "\n",
              "                                              Answer  \\\n",
              "0  the windshield will apply a force to the mosqu...   \n",
              "1  The normal force coming from the ice and the g...   \n",
              "2  if there is a zero net force on the object, th...   \n",
              "3  An equal force always balancing it out regardl...   \n",
              "4  The speed of the puck will equal to the net fo...   \n",
              "\n",
              "                                    Annotation_label  \\\n",
              "0  correct(0)|correct_but_incomplete(1)|contradic...   \n",
              "1  correct(1)|correct_but_incomplete(0)|contradic...   \n",
              "2  correct(0)|correct_but_incomplete(0)|contradic...   \n",
              "3  correct(0)|correct_but_incomplete(0)|contradic...   \n",
              "4  correct(0)|correct_but_incomplete(0)|contradic...   \n",
              "\n",
              "  Annotation_ContextRequired Annotation_ExtraInfoInAnswer  \\\n",
              "0                          0                            0   \n",
              "1                          0                            1   \n",
              "2                          0                            0   \n",
              "3                          0                            0   \n",
              "4                          0                            0   \n",
              "\n",
              "                                 Annotation_comments  \\\n",
              "0   The student forgot to tell the opposite force...   \n",
              "1   Indirectly mentioned that the puck moves in a...   \n",
              "2  Is this the correct definition, not listed in ...   \n",
              "3   So difficult to understand. Based on the refe...   \n",
              "4                           Related but not correct.   \n",
              "\n",
              "  Annotation_comments_watch                                   ReferenceAnswers  \n",
              "0                         1  \\n1:  Since the windshield exerts a force on t...  \n",
              "1                         1  \\n1:  The forces acting on the puck while it i...  \n",
              "2                         1  \\n1:  Newton's 2nd Law says that the net force...  \n",
              "3                         1  \\n1:  For every action, there is an equal and ...  \n",
              "4                         0  \\n1:  The puck will move in a straight line wi...  "
            ],
            "text/html": [
              "\n",
              "\n",
              "  <div id=\"df-ea825d53-c972-4702-8d3b-109735ead8bd\">\n",
              "    <div class=\"colab-df-container\">\n",
              "      <div>\n",
              "<style scoped>\n",
              "    .dataframe tbody tr th:only-of-type {\n",
              "        vertical-align: middle;\n",
              "    }\n",
              "\n",
              "    .dataframe tbody tr th {\n",
              "        vertical-align: top;\n",
              "    }\n",
              "\n",
              "    .dataframe thead th {\n",
              "        text-align: right;\n",
              "    }\n",
              "</style>\n",
              "<table border=\"1\" class=\"dataframe\">\n",
              "  <thead>\n",
              "    <tr style=\"text-align: right;\">\n",
              "      <th></th>\n",
              "      <th>StudentID</th>\n",
              "      <th>TaskID</th>\n",
              "      <th>DataSource</th>\n",
              "      <th>ProblemDescription</th>\n",
              "      <th>Question</th>\n",
              "      <th>Answer</th>\n",
              "      <th>Annotation_label</th>\n",
              "      <th>Annotation_ContextRequired</th>\n",
              "      <th>Annotation_ExtraInfoInAnswer</th>\n",
              "      <th>Annotation_comments</th>\n",
              "      <th>Annotation_comments_watch</th>\n",
              "      <th>ReferenceAnswers</th>\n",
              "    </tr>\n",
              "  </thead>\n",
              "  <tbody>\n",
              "    <tr>\n",
              "      <th>0</th>\n",
              "      <td>DTSU040</td>\n",
              "      <td>LP03_PR09.bLK.sh</td>\n",
              "      <td>DeepTutorSummer2014</td>\n",
              "      <td>A car windshield collides with a mosquito, squ...</td>\n",
              "      <td>How does Newton's third law apply to this situ...</td>\n",
              "      <td>the windshield will apply a force to the mosqu...</td>\n",
              "      <td>correct(0)|correct_but_incomplete(1)|contradic...</td>\n",
              "      <td>0</td>\n",
              "      <td>0</td>\n",
              "      <td>The student forgot to tell the opposite force...</td>\n",
              "      <td>1</td>\n",
              "      <td>\\n1:  Since the windshield exerts a force on t...</td>\n",
              "    </tr>\n",
              "    <tr>\n",
              "      <th>1</th>\n",
              "      <td>DTSU035</td>\n",
              "      <td>FM_LV04_PR05.sh</td>\n",
              "      <td>DeepTutorSummer2014</td>\n",
              "      <td>Two hockey players pass a puck between them on...</td>\n",
              "      <td>What forces are acting on the puck while the p...</td>\n",
              "      <td>The normal force coming from the ice and the g...</td>\n",
              "      <td>correct(1)|correct_but_incomplete(0)|contradic...</td>\n",
              "      <td>0</td>\n",
              "      <td>1</td>\n",
              "      <td>Indirectly mentioned that the puck moves in a...</td>\n",
              "      <td>1</td>\n",
              "      <td>\\n1:  The forces acting on the puck while it i...</td>\n",
              "    </tr>\n",
              "    <tr>\n",
              "      <th>2</th>\n",
              "      <td>DTSU021</td>\n",
              "      <td>FM_LVxx_PR01</td>\n",
              "      <td>DeepTutorSummer2014</td>\n",
              "      <td>A rocket pushes a meteor with constant force. ...</td>\n",
              "      <td>Can you articulate Newton's second law?</td>\n",
              "      <td>if there is a zero net force on the object, th...</td>\n",
              "      <td>correct(0)|correct_but_incomplete(0)|contradic...</td>\n",
              "      <td>0</td>\n",
              "      <td>0</td>\n",
              "      <td>Is this the correct definition, not listed in ...</td>\n",
              "      <td>1</td>\n",
              "      <td>\\n1:  Newton's 2nd Law says that the net force...</td>\n",
              "    </tr>\n",
              "    <tr>\n",
              "      <th>3</th>\n",
              "      <td>DTSU033</td>\n",
              "      <td>LP03_PR09.bLK.sh</td>\n",
              "      <td>DeepTutorSummer2014</td>\n",
              "      <td>A car windshield collides with a mosquito, squ...</td>\n",
              "      <td>Can you articulate a principle or definition w...</td>\n",
              "      <td>An equal force always balancing it out regardl...</td>\n",
              "      <td>correct(0)|correct_but_incomplete(0)|contradic...</td>\n",
              "      <td>0</td>\n",
              "      <td>0</td>\n",
              "      <td>So difficult to understand. Based on the refe...</td>\n",
              "      <td>1</td>\n",
              "      <td>\\n1:  For every action, there is an equal and ...</td>\n",
              "    </tr>\n",
              "    <tr>\n",
              "      <th>4</th>\n",
              "      <td>DTSU015</td>\n",
              "      <td>FM_LV04_PR05</td>\n",
              "      <td>DeepTutorSummer2014</td>\n",
              "      <td>Two hockey players pass a puck between them on...</td>\n",
              "      <td>Based on Newton's first law, what can you say ...</td>\n",
              "      <td>The speed of the puck will equal to the net fo...</td>\n",
              "      <td>correct(0)|correct_but_incomplete(0)|contradic...</td>\n",
              "      <td>0</td>\n",
              "      <td>0</td>\n",
              "      <td>Related but not correct.</td>\n",
              "      <td>0</td>\n",
              "      <td>\\n1:  The puck will move in a straight line wi...</td>\n",
              "    </tr>\n",
              "  </tbody>\n",
              "</table>\n",
              "</div>\n",
              "      <button class=\"colab-df-convert\" onclick=\"convertToInteractive('df-ea825d53-c972-4702-8d3b-109735ead8bd')\"\n",
              "              title=\"Convert this dataframe to an interactive table.\"\n",
              "              style=\"display:none;\">\n",
              "\n",
              "  <svg xmlns=\"http://www.w3.org/2000/svg\" height=\"24px\"viewBox=\"0 0 24 24\"\n",
              "       width=\"24px\">\n",
              "    <path d=\"M0 0h24v24H0V0z\" fill=\"none\"/>\n",
              "    <path d=\"M18.56 5.44l.94 2.06.94-2.06 2.06-.94-2.06-.94-.94-2.06-.94 2.06-2.06.94zm-11 1L8.5 8.5l.94-2.06 2.06-.94-2.06-.94L8.5 2.5l-.94 2.06-2.06.94zm10 10l.94 2.06.94-2.06 2.06-.94-2.06-.94-.94-2.06-.94 2.06-2.06.94z\"/><path d=\"M17.41 7.96l-1.37-1.37c-.4-.4-.92-.59-1.43-.59-.52 0-1.04.2-1.43.59L10.3 9.45l-7.72 7.72c-.78.78-.78 2.05 0 2.83L4 21.41c.39.39.9.59 1.41.59.51 0 1.02-.2 1.41-.59l7.78-7.78 2.81-2.81c.8-.78.8-2.07 0-2.86zM5.41 20L4 18.59l7.72-7.72 1.47 1.35L5.41 20z\"/>\n",
              "  </svg>\n",
              "      </button>\n",
              "\n",
              "\n",
              "\n",
              "    <div id=\"df-44b4d91c-a537-43ae-a153-804b2a7d3893\">\n",
              "      <button class=\"colab-df-quickchart\" onclick=\"quickchart('df-44b4d91c-a537-43ae-a153-804b2a7d3893')\"\n",
              "              title=\"Suggest charts.\"\n",
              "              style=\"display:none;\">\n",
              "\n",
              "<svg xmlns=\"http://www.w3.org/2000/svg\" height=\"24px\"viewBox=\"0 0 24 24\"\n",
              "     width=\"24px\">\n",
              "    <g>\n",
              "        <path d=\"M19 3H5c-1.1 0-2 .9-2 2v14c0 1.1.9 2 2 2h14c1.1 0 2-.9 2-2V5c0-1.1-.9-2-2-2zM9 17H7v-7h2v7zm4 0h-2V7h2v10zm4 0h-2v-4h2v4z\"/>\n",
              "    </g>\n",
              "</svg>\n",
              "      </button>\n",
              "    </div>\n",
              "\n",
              "<style>\n",
              "  .colab-df-quickchart {\n",
              "    background-color: #E8F0FE;\n",
              "    border: none;\n",
              "    border-radius: 50%;\n",
              "    cursor: pointer;\n",
              "    display: none;\n",
              "    fill: #1967D2;\n",
              "    height: 32px;\n",
              "    padding: 0 0 0 0;\n",
              "    width: 32px;\n",
              "  }\n",
              "\n",
              "  .colab-df-quickchart:hover {\n",
              "    background-color: #E2EBFA;\n",
              "    box-shadow: 0px 1px 2px rgba(60, 64, 67, 0.3), 0px 1px 3px 1px rgba(60, 64, 67, 0.15);\n",
              "    fill: #174EA6;\n",
              "  }\n",
              "\n",
              "  [theme=dark] .colab-df-quickchart {\n",
              "    background-color: #3B4455;\n",
              "    fill: #D2E3FC;\n",
              "  }\n",
              "\n",
              "  [theme=dark] .colab-df-quickchart:hover {\n",
              "    background-color: #434B5C;\n",
              "    box-shadow: 0px 1px 3px 1px rgba(0, 0, 0, 0.15);\n",
              "    filter: drop-shadow(0px 1px 2px rgba(0, 0, 0, 0.3));\n",
              "    fill: #FFFFFF;\n",
              "  }\n",
              "</style>\n",
              "\n",
              "    <script>\n",
              "      async function quickchart(key) {\n",
              "        const containerElement = document.querySelector('#' + key);\n",
              "        const charts = await google.colab.kernel.invokeFunction(\n",
              "            'suggestCharts', [key], {});\n",
              "      }\n",
              "    </script>\n",
              "\n",
              "\n",
              "      <script>\n",
              "\n",
              "function displayQuickchartButton(domScope) {\n",
              "  let quickchartButtonEl =\n",
              "    domScope.querySelector('#df-44b4d91c-a537-43ae-a153-804b2a7d3893 button.colab-df-quickchart');\n",
              "  quickchartButtonEl.style.display =\n",
              "    google.colab.kernel.accessAllowed ? 'block' : 'none';\n",
              "}\n",
              "\n",
              "        displayQuickchartButton(document);\n",
              "      </script>\n",
              "      <style>\n",
              "    .colab-df-container {\n",
              "      display:flex;\n",
              "      flex-wrap:wrap;\n",
              "      gap: 12px;\n",
              "    }\n",
              "\n",
              "    .colab-df-convert {\n",
              "      background-color: #E8F0FE;\n",
              "      border: none;\n",
              "      border-radius: 50%;\n",
              "      cursor: pointer;\n",
              "      display: none;\n",
              "      fill: #1967D2;\n",
              "      height: 32px;\n",
              "      padding: 0 0 0 0;\n",
              "      width: 32px;\n",
              "    }\n",
              "\n",
              "    .colab-df-convert:hover {\n",
              "      background-color: #E2EBFA;\n",
              "      box-shadow: 0px 1px 2px rgba(60, 64, 67, 0.3), 0px 1px 3px 1px rgba(60, 64, 67, 0.15);\n",
              "      fill: #174EA6;\n",
              "    }\n",
              "\n",
              "    [theme=dark] .colab-df-convert {\n",
              "      background-color: #3B4455;\n",
              "      fill: #D2E3FC;\n",
              "    }\n",
              "\n",
              "    [theme=dark] .colab-df-convert:hover {\n",
              "      background-color: #434B5C;\n",
              "      box-shadow: 0px 1px 3px 1px rgba(0, 0, 0, 0.15);\n",
              "      filter: drop-shadow(0px 1px 2px rgba(0, 0, 0, 0.3));\n",
              "      fill: #FFFFFF;\n",
              "    }\n",
              "  </style>\n",
              "\n",
              "      <script>\n",
              "        const buttonEl =\n",
              "          document.querySelector('#df-ea825d53-c972-4702-8d3b-109735ead8bd button.colab-df-convert');\n",
              "        buttonEl.style.display =\n",
              "          google.colab.kernel.accessAllowed ? 'block' : 'none';\n",
              "\n",
              "        async function convertToInteractive(key) {\n",
              "          const element = document.querySelector('#df-ea825d53-c972-4702-8d3b-109735ead8bd');\n",
              "          const dataTable =\n",
              "            await google.colab.kernel.invokeFunction('convertToInteractive',\n",
              "                                                     [key], {});\n",
              "          if (!dataTable) return;\n",
              "\n",
              "          const docLinkHtml = 'Like what you see? Visit the ' +\n",
              "            '<a target=\"_blank\" href=https://colab.research.google.com/notebooks/data_table.ipynb>data table notebook</a>'\n",
              "            + ' to learn more about interactive tables.';\n",
              "          element.innerHTML = '';\n",
              "          dataTable['output_type'] = 'display_data';\n",
              "          await google.colab.output.renderOutput(dataTable, element);\n",
              "          const docLink = document.createElement('div');\n",
              "          docLink.innerHTML = docLinkHtml;\n",
              "          element.appendChild(docLink);\n",
              "        }\n",
              "      </script>\n",
              "    </div>\n",
              "  </div>\n"
            ]
          },
          "metadata": {},
          "execution_count": 4
        }
      ]
    },
    {
      "cell_type": "code",
      "source": [
        "df.iloc[0]"
      ],
      "metadata": {
        "colab": {
          "base_uri": "https://localhost:8080/"
        },
        "id": "M6IF2oxocA7T",
        "outputId": "4a2d9019-abd2-474a-d70c-00395f71a37e"
      },
      "execution_count": 5,
      "outputs": [
        {
          "output_type": "execute_result",
          "data": {
            "text/plain": [
              "StudentID                                                                 DTSU040\n",
              "TaskID                                                           LP03_PR09.bLK.sh\n",
              "DataSource                                                    DeepTutorSummer2014\n",
              "ProblemDescription              A car windshield collides with a mosquito, squ...\n",
              "Question                        How does Newton's third law apply to this situ...\n",
              "Answer                          the windshield will apply a force to the mosqu...\n",
              "Annotation_label                correct(0)|correct_but_incomplete(1)|contradic...\n",
              "Annotation_ContextRequired                                                      0\n",
              "Annotation_ExtraInfoInAnswer                                                    0\n",
              "Annotation_comments              The student forgot to tell the opposite force...\n",
              "Annotation_comments_watch                                                       1\n",
              "ReferenceAnswers                \\n1:  Since the windshield exerts a force on t...\n",
              "Name: 0, dtype: object"
            ]
          },
          "metadata": {},
          "execution_count": 5
        }
      ]
    },
    {
      "cell_type": "markdown",
      "source": [],
      "metadata": {
        "id": "RvIGMoajBaN0"
      }
    },
    {
      "cell_type": "code",
      "source": [
        "df.columns"
      ],
      "metadata": {
        "colab": {
          "base_uri": "https://localhost:8080/"
        },
        "id": "ZJs4Cok-28QD",
        "outputId": "b96eaacf-4b25-4cd4-a11a-4e3c2e6d7c2d"
      },
      "execution_count": 6,
      "outputs": [
        {
          "output_type": "execute_result",
          "data": {
            "text/plain": [
              "Index(['StudentID', 'TaskID', 'DataSource', 'ProblemDescription', 'Question',\n",
              "       'Answer', 'Annotation_label', 'Annotation_ContextRequired',\n",
              "       'Annotation_ExtraInfoInAnswer', 'Annotation_comments',\n",
              "       'Annotation_comments_watch', 'ReferenceAnswers'],\n",
              "      dtype='object')"
            ]
          },
          "metadata": {},
          "execution_count": 6
        }
      ]
    },
    {
      "cell_type": "markdown",
      "source": [
        "# Combine context, question, and student answer for each sample\n"
      ],
      "metadata": {
        "id": "hSKHkZGJBbFJ"
      }
    },
    {
      "cell_type": "code",
      "source": [
        "input_texts = [item['ProblemDescription'] + \" \" + item['Question'] + \" \" + item['Answer'] for item in data]\n",
        "target_texts = [item['ReferenceAnswers'] for item in data]"
      ],
      "metadata": {
        "id": "Iso8E-cyBbwI"
      },
      "execution_count": 7,
      "outputs": []
    },
    {
      "cell_type": "code",
      "source": [
        "size = len(target_texts)\n",
        "size"
      ],
      "metadata": {
        "colab": {
          "base_uri": "https://localhost:8080/"
        },
        "id": "OubmHxNaBke4",
        "outputId": "bfd69995-f07e-4349-a6be-aa3ecca4cb26"
      },
      "execution_count": 8,
      "outputs": [
        {
          "output_type": "execute_result",
          "data": {
            "text/plain": [
              "898"
            ]
          },
          "metadata": {},
          "execution_count": 8
        }
      ]
    },
    {
      "cell_type": "code",
      "source": [
        "sizee = len(input_texts)\n",
        "size"
      ],
      "metadata": {
        "id": "RnDCaxi_Bu4J",
        "colab": {
          "base_uri": "https://localhost:8080/"
        },
        "outputId": "2486f8b1-70b1-4b64-deff-7338127176a6"
      },
      "execution_count": 9,
      "outputs": [
        {
          "output_type": "execute_result",
          "data": {
            "text/plain": [
              "898"
            ]
          },
          "metadata": {},
          "execution_count": 9
        }
      ]
    },
    {
      "cell_type": "markdown",
      "source": [
        "# Tokenize the text data"
      ],
      "metadata": {
        "id": "BcELNryUBw4Z"
      }
    },
    {
      "cell_type": "code",
      "source": [
        "tokenizer = Tokenizer()\n",
        "tokenizer.fit_on_texts(input_texts + target_texts)\n",
        "vocab_size = len(tokenizer.word_index) + 1\n"
      ],
      "metadata": {
        "id": "GQahDd4NBx0S"
      },
      "execution_count": 10,
      "outputs": []
    },
    {
      "cell_type": "code",
      "source": [
        "vocab_size"
      ],
      "metadata": {
        "colab": {
          "base_uri": "https://localhost:8080/"
        },
        "id": "zlFQ3688AzaT",
        "outputId": "e5a6df5d-c8cb-4f76-cbda-1eac49a5adf8"
      },
      "execution_count": 11,
      "outputs": [
        {
          "output_type": "execute_result",
          "data": {
            "text/plain": [
              "720"
            ]
          },
          "metadata": {},
          "execution_count": 11
        }
      ]
    },
    {
      "cell_type": "markdown",
      "source": [
        "# Convert text sequences to integer sequences and pad sequences"
      ],
      "metadata": {
        "id": "6YIxPA6kCqFB"
      }
    },
    {
      "cell_type": "code",
      "source": [
        "input_sequences = tokenizer.texts_to_sequences(input_texts)\n",
        "target_sequences = tokenizer.texts_to_sequences(target_texts)\n",
        "\n",
        "max_sequence_length = max(len(seq) for seq in input_sequences)\n",
        "input_sequences_padded = pad_sequences(input_sequences, maxlen=max_sequence_length, padding='post')\n",
        "target_sequences_padded = pad_sequences(target_sequences, maxlen=max_sequence_length, padding='post')"
      ],
      "metadata": {
        "id": "zJ1tg4ceCq1h"
      },
      "execution_count": 12,
      "outputs": []
    },
    {
      "cell_type": "markdown",
      "source": [
        "# Create training and testing sets"
      ],
      "metadata": {
        "id": "wUZTNPuBC2h3"
      }
    },
    {
      "cell_type": "code",
      "source": [
        "train_size = int(0.8 * len(input_sequences_padded))\n",
        "x_train, x_test = input_sequences_padded[:train_size], input_sequences_padded[train_size:]\n",
        "y_train, y_test = target_sequences_padded[:train_size], target_sequences_padded[train_size:]"
      ],
      "metadata": {
        "id": "D8hb0_V6C5nZ"
      },
      "execution_count": 13,
      "outputs": []
    },
    {
      "cell_type": "markdown",
      "source": [
        "# Find the maximum sequence length in both input and target sequences"
      ],
      "metadata": {
        "id": "YrGtSzuMLIDi"
      }
    },
    {
      "cell_type": "code",
      "source": [
        "max_input_sequence_length = max(len(seq) for seq in x_train)\n",
        "max_target_sequence_length = max(len(seq) for seq in y_train)\n",
        "max_input_sequence_length\n",
        "\n"
      ],
      "metadata": {
        "id": "RDg8RzlSLI3H",
        "colab": {
          "base_uri": "https://localhost:8080/"
        },
        "outputId": "66c81b45-356b-422e-d637-fb82dcaabdfa"
      },
      "execution_count": 14,
      "outputs": [
        {
          "output_type": "execute_result",
          "data": {
            "text/plain": [
              "142"
            ]
          },
          "metadata": {},
          "execution_count": 14
        }
      ]
    },
    {
      "cell_type": "markdown",
      "source": [
        "# Adjust x_train and x_test by removing the last time step\n"
      ],
      "metadata": {
        "id": "hEMNWfFCFDc6"
      }
    },
    {
      "cell_type": "code",
      "source": [
        "x_train_adjusted = x_train[:, :-1]\n",
        "x_test_adjusted = x_test[:, :-1]"
      ],
      "metadata": {
        "id": "fyJFH3j4FGWy"
      },
      "execution_count": 15,
      "outputs": []
    },
    {
      "cell_type": "markdown",
      "source": [
        "# Adjust y_train and y_test by removing the last time step and pad the target sequences\n"
      ],
      "metadata": {
        "id": "5Dnwk2vYFL1i"
      }
    },
    {
      "cell_type": "code",
      "source": [
        "y_train_adjusted = pad_sequences(y_train, maxlen=max_target_sequence_length, padding='post')\n",
        "y_train_adjusted = y_train_adjusted[:, :-1]\n",
        "\n",
        "y_test_adjusted = pad_sequences(y_test, maxlen=max_target_sequence_length, padding='post')\n",
        "y_test_adjusted = y_test_adjusted[:, :-1]"
      ],
      "metadata": {
        "id": "mjkgnHb6FMnq"
      },
      "execution_count": 16,
      "outputs": []
    },
    {
      "cell_type": "markdown",
      "source": [
        "# Build the model using functional API\n"
      ],
      "metadata": {
        "id": "L9CnD0F_FSFR"
      }
    },
    {
      "cell_type": "code",
      "source": [
        "latent_dim = 256  # Number of units in the LSTM layer\n",
        "embedding_dim = 100  # Dimension of word embeddings\n",
        "\n",
        "encoder_input = Input(shape=(max_input_sequence_length - 1,))\n",
        "encoder_embedding = Embedding(vocab_size, embedding_dim)(encoder_input)\n",
        "encoder_lstm = LSTM(latent_dim, return_sequences=True, return_state=True)\n",
        "encoder_outputs, state_h, state_c = encoder_lstm(encoder_embedding)\n",
        "\n",
        "decoder_input = Input(shape=(max_target_sequence_length - 1,))\n",
        "decoder_embedding = Embedding(vocab_size, embedding_dim)(decoder_input)\n",
        "decoder_lstm = LSTM(latent_dim, return_sequences=True, return_state=True)\n",
        "decoder_outputs, _, _ = decoder_lstm(decoder_embedding, initial_state=[state_h, state_c])\n",
        "\n",
        "attention = Attention()([decoder_outputs, encoder_outputs])\n",
        "decoder_outputs_attention = Dense(vocab_size, activation='softmax')(attention)\n",
        "\n",
        "model = Model(inputs=[encoder_input, decoder_input], outputs=decoder_outputs_attention)\n"
      ],
      "metadata": {
        "id": "wUkyIcSWFUu7"
      },
      "execution_count": 17,
      "outputs": []
    },
    {
      "cell_type": "markdown",
      "source": [
        "# Compile the model"
      ],
      "metadata": {
        "id": "9amHQBhwFa-8"
      }
    },
    {
      "cell_type": "code",
      "source": [
        "model.compile(optimizer='adam', loss='sparse_categorical_crossentropy')\n"
      ],
      "metadata": {
        "id": "Y3kuR9FEFbzB"
      },
      "execution_count": 18,
      "outputs": []
    },
    {
      "cell_type": "markdown",
      "source": [
        "# Train the model with adjusted x_train, x_test, y_train, and y_test\n",
        "\n",
        "---\n",
        "\n"
      ],
      "metadata": {
        "id": "YU5SPp31Fhgy"
      }
    },
    {
      "cell_type": "code",
      "source": [
        "model.fit([x_train_adjusted, y_train_adjusted], y_train[:, 1:], batch_size=32, epochs=50, validation_data=([x_test_adjusted, y_test_adjusted], y_test[:, 1:]))"
      ],
      "metadata": {
        "colab": {
          "base_uri": "https://localhost:8080/"
        },
        "id": "EzBjvJRAFj6r",
        "outputId": "c459f63a-f954-434a-ed96-78ee40699544"
      },
      "execution_count": 19,
      "outputs": [
        {
          "output_type": "stream",
          "name": "stdout",
          "text": [
            "Epoch 1/50\n",
            "23/23 [==============================] - 44s 2s/step - loss: 4.3816 - val_loss: 3.3564\n",
            "Epoch 2/50\n",
            "23/23 [==============================] - 35s 2s/step - loss: 3.1849 - val_loss: 3.3256\n",
            "Epoch 3/50\n",
            "23/23 [==============================] - 38s 2s/step - loss: 3.1670 - val_loss: 3.3169\n",
            "Epoch 4/50\n",
            "23/23 [==============================] - 35s 2s/step - loss: 3.1660 - val_loss: 3.3100\n",
            "Epoch 5/50\n",
            "23/23 [==============================] - 37s 2s/step - loss: 3.1650 - val_loss: 3.3161\n",
            "Epoch 6/50\n",
            "23/23 [==============================] - 36s 2s/step - loss: 3.1670 - val_loss: 3.3204\n",
            "Epoch 7/50\n",
            "23/23 [==============================] - 41s 2s/step - loss: 3.1622 - val_loss: 3.3097\n",
            "Epoch 8/50\n",
            "23/23 [==============================] - 36s 2s/step - loss: 3.1553 - val_loss: 3.2932\n",
            "Epoch 9/50\n",
            "23/23 [==============================] - 37s 2s/step - loss: 3.0658 - val_loss: 3.3338\n",
            "Epoch 10/50\n",
            "23/23 [==============================] - 36s 2s/step - loss: 2.9115 - val_loss: 2.7874\n",
            "Epoch 11/50\n",
            "23/23 [==============================] - 37s 2s/step - loss: 2.5639 - val_loss: 2.6619\n",
            "Epoch 12/50\n",
            "23/23 [==============================] - 35s 2s/step - loss: 2.4732 - val_loss: 2.6181\n",
            "Epoch 13/50\n",
            "23/23 [==============================] - 37s 2s/step - loss: 2.4373 - val_loss: 2.5822\n",
            "Epoch 14/50\n",
            "23/23 [==============================] - 35s 2s/step - loss: 2.3918 - val_loss: 2.5161\n",
            "Epoch 15/50\n",
            "23/23 [==============================] - 37s 2s/step - loss: 2.3275 - val_loss: 2.4359\n",
            "Epoch 16/50\n",
            "23/23 [==============================] - 35s 2s/step - loss: 2.2439 - val_loss: 2.3353\n",
            "Epoch 17/50\n",
            "23/23 [==============================] - 38s 2s/step - loss: 2.1454 - val_loss: 2.2440\n",
            "Epoch 18/50\n",
            "23/23 [==============================] - 35s 2s/step - loss: 2.0416 - val_loss: 2.1135\n",
            "Epoch 19/50\n",
            "23/23 [==============================] - 38s 2s/step - loss: 1.9327 - val_loss: 2.0141\n",
            "Epoch 20/50\n",
            "23/23 [==============================] - 35s 2s/step - loss: 1.8427 - val_loss: 1.9415\n",
            "Epoch 21/50\n",
            "23/23 [==============================] - 38s 2s/step - loss: 1.7638 - val_loss: 1.8423\n",
            "Epoch 22/50\n",
            "23/23 [==============================] - 34s 2s/step - loss: 1.6874 - val_loss: 1.7727\n",
            "Epoch 23/50\n",
            "23/23 [==============================] - 36s 2s/step - loss: 1.6171 - val_loss: 1.6877\n",
            "Epoch 24/50\n",
            "23/23 [==============================] - 36s 2s/step - loss: 1.6051 - val_loss: 1.7124\n",
            "Epoch 25/50\n",
            "23/23 [==============================] - 39s 2s/step - loss: 1.5426 - val_loss: 1.5835\n",
            "Epoch 26/50\n",
            "23/23 [==============================] - 37s 2s/step - loss: 1.4607 - val_loss: 1.5182\n",
            "Epoch 27/50\n",
            "23/23 [==============================] - 38s 2s/step - loss: 1.4101 - val_loss: 1.4654\n",
            "Epoch 28/50\n",
            "23/23 [==============================] - 37s 2s/step - loss: 1.3605 - val_loss: 1.4199\n",
            "Epoch 29/50\n",
            "23/23 [==============================] - 43s 2s/step - loss: 1.3165 - val_loss: 1.3681\n",
            "Epoch 30/50\n",
            "23/23 [==============================] - 38s 2s/step - loss: 1.2788 - val_loss: 1.3471\n",
            "Epoch 31/50\n",
            "23/23 [==============================] - 36s 2s/step - loss: 1.2492 - val_loss: 1.3001\n",
            "Epoch 32/50\n",
            "23/23 [==============================] - 41s 2s/step - loss: 1.2086 - val_loss: 1.2666\n",
            "Epoch 33/50\n",
            "23/23 [==============================] - 36s 2s/step - loss: 1.1808 - val_loss: 1.2262\n",
            "Epoch 34/50\n",
            "23/23 [==============================] - 38s 2s/step - loss: 1.1408 - val_loss: 1.1815\n",
            "Epoch 35/50\n",
            "23/23 [==============================] - 36s 2s/step - loss: 1.1113 - val_loss: 1.1536\n",
            "Epoch 36/50\n",
            "23/23 [==============================] - 37s 2s/step - loss: 1.0839 - val_loss: 1.1255\n",
            "Epoch 37/50\n",
            "23/23 [==============================] - 38s 2s/step - loss: 1.0506 - val_loss: 1.0929\n",
            "Epoch 38/50\n",
            "23/23 [==============================] - 37s 2s/step - loss: 1.0298 - val_loss: 1.0729\n",
            "Epoch 39/50\n",
            "23/23 [==============================] - 35s 2s/step - loss: 1.0019 - val_loss: 1.0352\n",
            "Epoch 40/50\n",
            "23/23 [==============================] - 38s 2s/step - loss: 0.9770 - val_loss: 1.0143\n",
            "Epoch 41/50\n",
            "23/23 [==============================] - 35s 2s/step - loss: 0.9532 - val_loss: 0.9977\n",
            "Epoch 42/50\n",
            "23/23 [==============================] - 36s 2s/step - loss: 0.9314 - val_loss: 0.9607\n",
            "Epoch 43/50\n",
            "23/23 [==============================] - 35s 2s/step - loss: 0.9002 - val_loss: 0.9308\n",
            "Epoch 44/50\n",
            "23/23 [==============================] - 37s 2s/step - loss: 0.8886 - val_loss: 0.9247\n",
            "Epoch 45/50\n",
            "23/23 [==============================] - 36s 2s/step - loss: 0.8706 - val_loss: 0.9041\n",
            "Epoch 46/50\n",
            "23/23 [==============================] - 35s 2s/step - loss: 0.8465 - val_loss: 0.8773\n",
            "Epoch 47/50\n",
            "23/23 [==============================] - 39s 2s/step - loss: 0.8333 - val_loss: 0.8502\n",
            "Epoch 48/50\n",
            "23/23 [==============================] - 35s 2s/step - loss: 0.8055 - val_loss: 0.8455\n",
            "Epoch 49/50\n",
            "23/23 [==============================] - 36s 2s/step - loss: 0.8314 - val_loss: 0.8370\n",
            "Epoch 50/50\n",
            "23/23 [==============================] - 37s 2s/step - loss: 0.8311 - val_loss: 0.8416\n"
          ]
        },
        {
          "output_type": "execute_result",
          "data": {
            "text/plain": [
              "<keras.callbacks.History at 0x7abdc666db10>"
            ]
          },
          "metadata": {},
          "execution_count": 19
        }
      ]
    },
    {
      "cell_type": "code",
      "source": [
        "# Preprocess input: context and student answer\n",
        "context = \"While speeding up, a large truck pushes a small compact car.\"\n",
        "student_answer = \"The magnitudes of the forces are equal and opposite to each other due to Newton’s third law of motion.\"\n",
        "\n",
        "# Tokenize and pad input sequences for both context and student answer\n",
        "input_seq_context = tokenizer.texts_to_sequences([context])\n",
        "input_seq_student_answer = tokenizer.texts_to_sequences([student_answer])\n",
        "\n",
        "input_seq_context_padded = pad_sequences(input_seq_context, maxlen=max_input_sequence_length - 1, padding='post')\n",
        "input_seq_student_answer_padded = pad_sequences(input_seq_student_answer, maxlen=max_input_sequence_length - 1, padding='post')\n",
        "\n",
        "# Generate response using the trained model\n",
        "generated_token_ids = model.predict([input_seq_context_padded, input_seq_student_answer_padded]).argmax(axis=-1)\n",
        "generated_response = tokenizer.sequences_to_texts(generated_token_ids)[0]\n",
        "\n",
        "# Post-process generated response if needed\n",
        "\n",
        "# Return the generated response as feedback\n",
        "print(\"Generated Feedback:\", generated_response)\n"
      ],
      "metadata": {
        "colab": {
          "base_uri": "https://localhost:8080/"
        },
        "id": "xSaa09irZvwc",
        "outputId": "7985d1be-9c38-4180-af24-d376015eb0a0"
      },
      "execution_count": 23,
      "outputs": [
        {
          "output_type": "stream",
          "name": "stdout",
          "text": [
            "1/1 [==============================] - 0s 102ms/step\n",
            "Generated Feedback: equal are force from equal and equal equal equal third are equal equal force from equal equal\n"
          ]
        }
      ]
    },
    {
      "cell_type": "code",
      "source": [
        "\n",
        "pip install nltk\n"
      ],
      "metadata": {
        "id": "wZ1WxwF1h0RO",
        "colab": {
          "base_uri": "https://localhost:8080/"
        },
        "outputId": "a9c5d1c0-9445-4ccb-8c5a-2a09f3f4ddd7"
      },
      "execution_count": 24,
      "outputs": [
        {
          "output_type": "stream",
          "name": "stdout",
          "text": [
            "Requirement already satisfied: nltk in /usr/local/lib/python3.10/dist-packages (3.8.1)\n",
            "Requirement already satisfied: click in /usr/local/lib/python3.10/dist-packages (from nltk) (8.1.6)\n",
            "Requirement already satisfied: joblib in /usr/local/lib/python3.10/dist-packages (from nltk) (1.3.2)\n",
            "Requirement already satisfied: regex>=2021.8.3 in /usr/local/lib/python3.10/dist-packages (from nltk) (2023.6.3)\n",
            "Requirement already satisfied: tqdm in /usr/local/lib/python3.10/dist-packages (from nltk) (4.66.1)\n"
          ]
        }
      ]
    },
    {
      "cell_type": "code",
      "source": [
        "from nltk.translate.bleu_score import corpus_bleu\n",
        "from nltk.translate.bleu_score import SmoothingFunction\n",
        "\n",
        "# Extract reference and candidate sequences from your dataset\n",
        "reference_sequences = input_texts  # List of reference sequences\n",
        "candidate_sequences = target_texts  # List of candidate sequences\n",
        "\n",
        "\n",
        "# Prepare reference sequences as list of lists\n",
        "references = [ref_seq.split() for ref_seq in reference_sequences]\n",
        "\n",
        "# Prepare candidate sequences as list of strings\n",
        "candidates = candidate_sequences\n",
        "\n",
        "# Calculate BLEU score\n",
        "smoothie = SmoothingFunction().method4  # Choose a smoothing method\n",
        "bleu_score = corpus_bleu(references, candidates, smoothing_function=smoothie)\n",
        "\n",
        "print(\"BLEU Score:\", bleu_score)\n"
      ],
      "metadata": {
        "colab": {
          "base_uri": "https://localhost:8080/"
        },
        "id": "byWdRm-DiEmw",
        "outputId": "5ecdfbe5-3664-4c56-8974-7d7518b31443"
      },
      "execution_count": 25,
      "outputs": [
        {
          "output_type": "stream",
          "name": "stdout",
          "text": [
            "BLEU Score: 0.054065656969080875\n"
          ]
        }
      ]
    },
    {
      "cell_type": "code",
      "source": [
        "from nltk.translate.bleu_score import sentence_bleu, SmoothingFunction\n",
        "\n",
        "reference_sequences = [['reference_1_seq_1', 'reference_1_seq_2', ...], ['reference_2_seq_1', 'reference_2_seq_2', ...], ...]\n",
        "candidate_sequence = generated_response\n",
        "\n",
        "smoothie = SmoothingFunction().method4\n",
        "bleu_score = sentence_bleu(reference_sequences, candidate_sequence, smoothing_function=smoothie)\n",
        "print(\"BLEU Score:\", bleu_score)\n"
      ],
      "metadata": {
        "colab": {
          "base_uri": "https://localhost:8080/",
          "height": 387
        },
        "id": "g_axQzRypDvN",
        "outputId": "563511dd-b087-4399-da1b-7030d707929a"
      },
      "execution_count": 26,
      "outputs": [
        {
          "output_type": "error",
          "ename": "TypeError",
          "evalue": "ignored",
          "traceback": [
            "\u001b[0;31m---------------------------------------------------------------------------\u001b[0m",
            "\u001b[0;31mTypeError\u001b[0m                                 Traceback (most recent call last)",
            "\u001b[0;32m<ipython-input-26-0a52f31ca2b7>\u001b[0m in \u001b[0;36m<cell line: 7>\u001b[0;34m()\u001b[0m\n\u001b[1;32m      5\u001b[0m \u001b[0;34m\u001b[0m\u001b[0m\n\u001b[1;32m      6\u001b[0m \u001b[0msmoothie\u001b[0m \u001b[0;34m=\u001b[0m \u001b[0mSmoothingFunction\u001b[0m\u001b[0;34m(\u001b[0m\u001b[0;34m)\u001b[0m\u001b[0;34m.\u001b[0m\u001b[0mmethod4\u001b[0m\u001b[0;34m\u001b[0m\u001b[0;34m\u001b[0m\u001b[0m\n\u001b[0;32m----> 7\u001b[0;31m \u001b[0mbleu_score\u001b[0m \u001b[0;34m=\u001b[0m \u001b[0msentence_bleu\u001b[0m\u001b[0;34m(\u001b[0m\u001b[0mreference_sequences\u001b[0m\u001b[0;34m,\u001b[0m \u001b[0mcandidate_sequence\u001b[0m\u001b[0;34m,\u001b[0m \u001b[0msmoothing_function\u001b[0m\u001b[0;34m=\u001b[0m\u001b[0msmoothie\u001b[0m\u001b[0;34m)\u001b[0m\u001b[0;34m\u001b[0m\u001b[0;34m\u001b[0m\u001b[0m\n\u001b[0m\u001b[1;32m      8\u001b[0m \u001b[0mprint\u001b[0m\u001b[0;34m(\u001b[0m\u001b[0;34m\"BLEU Score:\"\u001b[0m\u001b[0;34m,\u001b[0m \u001b[0mbleu_score\u001b[0m\u001b[0;34m)\u001b[0m\u001b[0;34m\u001b[0m\u001b[0;34m\u001b[0m\u001b[0m\n",
            "\u001b[0;32m/usr/local/lib/python3.10/dist-packages/nltk/translate/bleu_score.py\u001b[0m in \u001b[0;36msentence_bleu\u001b[0;34m(references, hypothesis, weights, smoothing_function, auto_reweigh)\u001b[0m\n\u001b[1;32m    105\u001b[0m     \u001b[0;34m:\u001b[0m\u001b[0mrtype\u001b[0m\u001b[0;34m:\u001b[0m \u001b[0mfloat\u001b[0m \u001b[0;34m/\u001b[0m \u001b[0mlist\u001b[0m\u001b[0;34m(\u001b[0m\u001b[0mfloat\u001b[0m\u001b[0;34m)\u001b[0m\u001b[0;34m\u001b[0m\u001b[0;34m\u001b[0m\u001b[0m\n\u001b[1;32m    106\u001b[0m     \"\"\"\n\u001b[0;32m--> 107\u001b[0;31m     return corpus_bleu(\n\u001b[0m\u001b[1;32m    108\u001b[0m         \u001b[0;34m[\u001b[0m\u001b[0mreferences\u001b[0m\u001b[0;34m]\u001b[0m\u001b[0;34m,\u001b[0m \u001b[0;34m[\u001b[0m\u001b[0mhypothesis\u001b[0m\u001b[0;34m]\u001b[0m\u001b[0;34m,\u001b[0m \u001b[0mweights\u001b[0m\u001b[0;34m,\u001b[0m \u001b[0msmoothing_function\u001b[0m\u001b[0;34m,\u001b[0m \u001b[0mauto_reweigh\u001b[0m\u001b[0;34m\u001b[0m\u001b[0;34m\u001b[0m\u001b[0m\n\u001b[1;32m    109\u001b[0m     )\n",
            "\u001b[0;32m/usr/local/lib/python3.10/dist-packages/nltk/translate/bleu_score.py\u001b[0m in \u001b[0;36mcorpus_bleu\u001b[0;34m(list_of_references, hypotheses, weights, smoothing_function, auto_reweigh)\u001b[0m\n\u001b[1;32m    208\u001b[0m         \u001b[0;31m# denominator for the corpus-level modified precision.\u001b[0m\u001b[0;34m\u001b[0m\u001b[0;34m\u001b[0m\u001b[0m\n\u001b[1;32m    209\u001b[0m         \u001b[0;32mfor\u001b[0m \u001b[0mi\u001b[0m \u001b[0;32min\u001b[0m \u001b[0mrange\u001b[0m\u001b[0;34m(\u001b[0m\u001b[0;36m1\u001b[0m\u001b[0;34m,\u001b[0m \u001b[0mmax_weight_length\u001b[0m \u001b[0;34m+\u001b[0m \u001b[0;36m1\u001b[0m\u001b[0;34m)\u001b[0m\u001b[0;34m:\u001b[0m\u001b[0;34m\u001b[0m\u001b[0;34m\u001b[0m\u001b[0m\n\u001b[0;32m--> 210\u001b[0;31m             \u001b[0mp_i\u001b[0m \u001b[0;34m=\u001b[0m \u001b[0mmodified_precision\u001b[0m\u001b[0;34m(\u001b[0m\u001b[0mreferences\u001b[0m\u001b[0;34m,\u001b[0m \u001b[0mhypothesis\u001b[0m\u001b[0;34m,\u001b[0m \u001b[0mi\u001b[0m\u001b[0;34m)\u001b[0m\u001b[0;34m\u001b[0m\u001b[0;34m\u001b[0m\u001b[0m\n\u001b[0m\u001b[1;32m    211\u001b[0m             \u001b[0mp_numerators\u001b[0m\u001b[0;34m[\u001b[0m\u001b[0mi\u001b[0m\u001b[0;34m]\u001b[0m \u001b[0;34m+=\u001b[0m \u001b[0mp_i\u001b[0m\u001b[0;34m.\u001b[0m\u001b[0mnumerator\u001b[0m\u001b[0;34m\u001b[0m\u001b[0;34m\u001b[0m\u001b[0m\n\u001b[1;32m    212\u001b[0m             \u001b[0mp_denominators\u001b[0m\u001b[0;34m[\u001b[0m\u001b[0mi\u001b[0m\u001b[0;34m]\u001b[0m \u001b[0;34m+=\u001b[0m \u001b[0mp_i\u001b[0m\u001b[0;34m.\u001b[0m\u001b[0mdenominator\u001b[0m\u001b[0;34m\u001b[0m\u001b[0;34m\u001b[0m\u001b[0m\n",
            "\u001b[0;32m/usr/local/lib/python3.10/dist-packages/nltk/translate/bleu_score.py\u001b[0m in \u001b[0;36mmodified_precision\u001b[0;34m(references, hypothesis, n)\u001b[0m\n\u001b[1;32m    351\u001b[0m     \u001b[0;32mfor\u001b[0m \u001b[0mreference\u001b[0m \u001b[0;32min\u001b[0m \u001b[0mreferences\u001b[0m\u001b[0;34m:\u001b[0m\u001b[0;34m\u001b[0m\u001b[0;34m\u001b[0m\u001b[0m\n\u001b[1;32m    352\u001b[0m         reference_counts = (\n\u001b[0;32m--> 353\u001b[0;31m             \u001b[0mCounter\u001b[0m\u001b[0;34m(\u001b[0m\u001b[0mngrams\u001b[0m\u001b[0;34m(\u001b[0m\u001b[0mreference\u001b[0m\u001b[0;34m,\u001b[0m \u001b[0mn\u001b[0m\u001b[0;34m)\u001b[0m\u001b[0;34m)\u001b[0m \u001b[0;32mif\u001b[0m \u001b[0mlen\u001b[0m\u001b[0;34m(\u001b[0m\u001b[0mreference\u001b[0m\u001b[0;34m)\u001b[0m \u001b[0;34m>=\u001b[0m \u001b[0mn\u001b[0m \u001b[0;32melse\u001b[0m \u001b[0mCounter\u001b[0m\u001b[0;34m(\u001b[0m\u001b[0;34m)\u001b[0m\u001b[0;34m\u001b[0m\u001b[0;34m\u001b[0m\u001b[0m\n\u001b[0m\u001b[1;32m    354\u001b[0m         )\n\u001b[1;32m    355\u001b[0m         \u001b[0;32mfor\u001b[0m \u001b[0mngram\u001b[0m \u001b[0;32min\u001b[0m \u001b[0mcounts\u001b[0m\u001b[0;34m:\u001b[0m\u001b[0;34m\u001b[0m\u001b[0;34m\u001b[0m\u001b[0m\n",
            "\u001b[0;31mTypeError\u001b[0m: object of type 'ellipsis' has no len()"
          ]
        }
      ]
    },
    {
      "cell_type": "code",
      "source": [],
      "metadata": {
        "id": "Wi6ZPj1rcPtj"
      },
      "execution_count": null,
      "outputs": []
    }
  ]
}